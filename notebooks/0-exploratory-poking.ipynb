{
 "metadata": {
  "language_info": {
   "codemirror_mode": {
    "name": "ipython",
    "version": 3
   },
   "file_extension": ".py",
   "mimetype": "text/x-python",
   "name": "python",
   "nbconvert_exporter": "python",
   "pygments_lexer": "ipython3",
   "version": "3.7.8"
  },
  "orig_nbformat": 4,
  "kernelspec": {
   "name": "python3",
   "display_name": "Python 3.7.8 64-bit"
  },
  "interpreter": {
   "hash": "aee8b7b246df8f9039afb4144a1f6fd8d2ca17a180786b69acc140d282b71a49"
  }
 },
 "nbformat": 4,
 "nbformat_minor": 2,
 "cells": [
  {
   "cell_type": "markdown",
   "source": [
    "# Exploratory Analysis of a Monthly Dataset"
   ],
   "metadata": {}
  },
  {
   "cell_type": "code",
   "execution_count": 8,
   "source": [
    "# do the below to load the python utilities from py_depends"
   ],
   "outputs": [],
   "metadata": {}
  },
  {
   "cell_type": "code",
   "execution_count": 9,
   "source": [
    "cd .."
   ],
   "outputs": [
    {
     "output_type": "stream",
     "name": "stdout",
     "text": [
      "/Users/svyatnakonechny\n"
     ]
    }
   ],
   "metadata": {}
  },
  {
   "cell_type": "code",
   "execution_count": 10,
   "source": [
    "import os\n",
    "from py_depends.utils import *\n",
    "from aux.dtypes import *\n",
    "\n",
    "# visualizations and such\n",
    "import seaborn\n",
    "\n",
    "# sanity check - assert the import worked correctly\n",
    "try:\n",
    "    assert 'flight-delays' in os.getcwd()\n",
    "except AssertionError:\n",
    "    print('Doesn\\'t look like the cd .. hack worked - restart the kernel and try again')"
   ],
   "outputs": [
    {
     "output_type": "stream",
     "name": "stdout",
     "text": [
      "Doesn't look like the cd .. hack worked - restart the kernel and try again\n"
     ]
    }
   ],
   "metadata": {}
  },
  {
   "cell_type": "markdown",
   "source": [
    "_First, some housekeeping. Reading in a sample file,_"
   ],
   "metadata": {}
  },
  {
   "cell_type": "code",
   "execution_count": 11,
   "source": [
    "%time jan_2018_df = unzipFile('./sample_data/On_Time_Marketing_Carrier_On_Time_Performance_Beginning_January_2018_2018_1.zip')\n",
    "# and assigning correct(?) types\n",
    "%time subs_jan_2018_df = subsetRenameRetype(jan_2018_df, new_cols)\n",
    "# and finally shaping those date-time columns - this is a massive bottleneck because it loops through the entire dataframe _for each column pair_. Incredibly inefficient\n",
    "%time subs_jan_2018_df = shapeDatetime(subs_jan_2018_df, ['crs_dep_time', 'dep_time','crs_arr_time', 'arr_time', 'first_dep_time', 'diverted_wheels_off_1', 'diverted_wheels_off_2', 'diverted_wheels_off_3'], 'flight_date')"
   ],
   "outputs": [
    {
     "output_type": "error",
     "ename": "FileNotFoundError",
     "evalue": "[Errno 2] No such file or directory: './sample_data/On_Time_Marketing_Carrier_On_Time_Performance_Beginning_January_2018_2018_1.zip'",
     "traceback": [
      "\u001b[0;31m---------------------------------------------------------------------------\u001b[0m",
      "\u001b[0;31mFileNotFoundError\u001b[0m                         Traceback (most recent call last)",
      "\u001b[0;32m<timed exec>\u001b[0m in \u001b[0;36m<module>\u001b[0;34m\u001b[0m\n",
      "\u001b[0;32m~/flight-delays/py_depends/utils.py\u001b[0m in \u001b[0;36munzipFile\u001b[0;34m(path_to_file)\u001b[0m\n\u001b[1;32m      5\u001b[0m \u001b[0;32mdef\u001b[0m \u001b[0munzipFile\u001b[0m\u001b[0;34m(\u001b[0m\u001b[0mpath_to_file\u001b[0m\u001b[0;34m:\u001b[0m \u001b[0mstr\u001b[0m\u001b[0;34m)\u001b[0m \u001b[0;34m->\u001b[0m \u001b[0mpd\u001b[0m\u001b[0;34m.\u001b[0m\u001b[0mcore\u001b[0m\u001b[0;34m.\u001b[0m\u001b[0mframe\u001b[0m\u001b[0;34m.\u001b[0m\u001b[0mDataFrame\u001b[0m\u001b[0;34m:\u001b[0m\u001b[0;34m\u001b[0m\u001b[0;34m\u001b[0m\u001b[0m\n\u001b[1;32m      6\u001b[0m     \u001b[0;34m\"\"\" Frees monthly extract file from the zip file \"\"\"\u001b[0m\u001b[0;34m\u001b[0m\u001b[0;34m\u001b[0m\u001b[0m\n\u001b[0;32m----> 7\u001b[0;31m     \u001b[0mzf\u001b[0m \u001b[0;34m=\u001b[0m \u001b[0mzipfile\u001b[0m\u001b[0;34m.\u001b[0m\u001b[0mZipFile\u001b[0m\u001b[0;34m(\u001b[0m\u001b[0mpath_to_file\u001b[0m\u001b[0;34m)\u001b[0m\u001b[0;34m\u001b[0m\u001b[0;34m\u001b[0m\u001b[0m\n\u001b[0m\u001b[1;32m      8\u001b[0m     \u001b[0mtarget_df\u001b[0m \u001b[0;34m=\u001b[0m \u001b[0;34m[\u001b[0m\u001b[0mf\u001b[0m \u001b[0;32mfor\u001b[0m \u001b[0mf\u001b[0m \u001b[0;32min\u001b[0m \u001b[0mzf\u001b[0m\u001b[0;34m.\u001b[0m\u001b[0mnamelist\u001b[0m\u001b[0;34m(\u001b[0m\u001b[0;34m)\u001b[0m \u001b[0;32mif\u001b[0m \u001b[0;34m'.csv'\u001b[0m \u001b[0;32min\u001b[0m \u001b[0mf\u001b[0m\u001b[0;34m]\u001b[0m\u001b[0;34m[\u001b[0m\u001b[0;36m0\u001b[0m\u001b[0;34m]\u001b[0m \u001b[0;31m# grabbing only the first one, assumes one zip = one csv\u001b[0m\u001b[0;34m\u001b[0m\u001b[0;34m\u001b[0m\u001b[0m\n\u001b[1;32m      9\u001b[0m     \u001b[0;32mreturn\u001b[0m \u001b[0mpd\u001b[0m\u001b[0;34m.\u001b[0m\u001b[0mread_csv\u001b[0m\u001b[0;34m(\u001b[0m\u001b[0mzf\u001b[0m\u001b[0;34m.\u001b[0m\u001b[0mopen\u001b[0m\u001b[0;34m(\u001b[0m\u001b[0mtarget_df\u001b[0m\u001b[0;34m)\u001b[0m\u001b[0;34m,\u001b[0m \u001b[0mlow_memory\u001b[0m\u001b[0;34m=\u001b[0m\u001b[0;32mFalse\u001b[0m\u001b[0;34m)\u001b[0m\u001b[0;34m\u001b[0m\u001b[0;34m\u001b[0m\u001b[0m\n",
      "\u001b[0;32m/Library/Frameworks/Python.framework/Versions/3.7/lib/python3.7/zipfile.py\u001b[0m in \u001b[0;36m__init__\u001b[0;34m(self, file, mode, compression, allowZip64, compresslevel)\u001b[0m\n\u001b[1;32m   1238\u001b[0m             \u001b[0;32mwhile\u001b[0m \u001b[0;32mTrue\u001b[0m\u001b[0;34m:\u001b[0m\u001b[0;34m\u001b[0m\u001b[0;34m\u001b[0m\u001b[0m\n\u001b[1;32m   1239\u001b[0m                 \u001b[0;32mtry\u001b[0m\u001b[0;34m:\u001b[0m\u001b[0;34m\u001b[0m\u001b[0;34m\u001b[0m\u001b[0m\n\u001b[0;32m-> 1240\u001b[0;31m                     \u001b[0mself\u001b[0m\u001b[0;34m.\u001b[0m\u001b[0mfp\u001b[0m \u001b[0;34m=\u001b[0m \u001b[0mio\u001b[0m\u001b[0;34m.\u001b[0m\u001b[0mopen\u001b[0m\u001b[0;34m(\u001b[0m\u001b[0mfile\u001b[0m\u001b[0;34m,\u001b[0m \u001b[0mfilemode\u001b[0m\u001b[0;34m)\u001b[0m\u001b[0;34m\u001b[0m\u001b[0;34m\u001b[0m\u001b[0m\n\u001b[0m\u001b[1;32m   1241\u001b[0m                 \u001b[0;32mexcept\u001b[0m \u001b[0mOSError\u001b[0m\u001b[0;34m:\u001b[0m\u001b[0;34m\u001b[0m\u001b[0;34m\u001b[0m\u001b[0m\n\u001b[1;32m   1242\u001b[0m                     \u001b[0;32mif\u001b[0m \u001b[0mfilemode\u001b[0m \u001b[0;32min\u001b[0m \u001b[0mmodeDict\u001b[0m\u001b[0;34m:\u001b[0m\u001b[0;34m\u001b[0m\u001b[0;34m\u001b[0m\u001b[0m\n",
      "\u001b[0;31mFileNotFoundError\u001b[0m: [Errno 2] No such file or directory: './sample_data/On_Time_Marketing_Carrier_On_Time_Performance_Beginning_January_2018_2018_1.zip'"
     ]
    },
    {
     "output_type": "stream",
     "name": "stdout",
     "text": [
      "CPU times: user 3.85 s, sys: 467 ms, total: 4.31 s\n",
      "Wall time: 4.32 s\n",
      "Shaping crs_dep_time-flight_date columns\n",
      "Shaping dep_time-flight_date columns\n",
      "Shaping crs_arr_time-flight_date columns\n",
      "Shaping arr_time-flight_date columns\n",
      "Shaping first_dep_time-flight_date columns\n",
      "Shaping diverted_wheels_off_1-flight_date columns\n",
      "Shaping diverted_wheels_off_2-flight_date columns\n",
      "Shaping diverted_wheels_off_3-flight_date columns\n",
      "CPU times: user 3min 28s, sys: 5.93 s, total: 3min 34s\n",
      "Wall time: 3min 36s\n"
     ]
    }
   ],
   "metadata": {}
  },
  {
   "cell_type": "markdown",
   "source": [
    "## Descriptive stats"
   ],
   "metadata": {}
  },
  {
   "cell_type": "markdown",
   "source": [
    "### Airports"
   ],
   "metadata": {}
  },
  {
   "cell_type": "code",
   "execution_count": 76,
   "source": [
    "departure_delay_stats = subs_jan_2018_df.groupby('origin')['dep_delay'].agg(['count', 'mean']).reset_index()\n",
    "counts_late_departure = subs_jan_2018_df[subs_jan_2018_df.dep_delay > 0].groupby('origin')['origin'].agg(['count']).reset_index()\n",
    "departure_delay_stats.columns = ['origin', 'total_flights', 'mean_delay']\n",
    "counts_late_departure.columns = ['origin', 'delayed_flights']\n",
    "departure_delay_stats = pd.merge(departure_delay_stats, counts_late_departure, how='left')\n",
    "departure_delay_stats['percentage_departed_late'] = departure_delay_stats['delayed_flights']/departure_delay_stats['total_flights']\n",
    "departure_delay_stats.sort_values(by='total_flights', ascending=False).head(15)"
   ],
   "outputs": [
    {
     "output_type": "execute_result",
     "data": {
      "text/plain": [
       "    origin  total_flights  mean_delay  delayed_flights  \\\n",
       "20     ATL          29836   11.858828          11016.0   \n",
       "241    ORD          29270   15.037444          11072.0   \n",
       "88     DFW          21962    6.920044           6738.0   \n",
       "87     DEN          20247    9.555342           6841.0   \n",
       "184    LAX          20110    5.865092           5779.0   \n",
       "69     CLT          18782    8.731232           6553.0   \n",
       "255    PHX          14597    8.285333           5838.0   \n",
       "303    SFO          14447    7.745553           4388.0   \n",
       "301    SEA          14127    2.275288           3451.0   \n",
       "94     DTW          13565   14.429266           4655.0   \n",
       "157    IAH          13523    7.147009           3238.0   \n",
       "182    LAS          13255    6.368691           4379.0   \n",
       "191    LGA          12699   13.012914           4543.0   \n",
       "109    EWR          12116   12.211704           4453.0   \n",
       "228    MSP          11695    9.993330           3654.0   \n",
       "\n",
       "     percentage_departed_late  \n",
       "20                   0.369218  \n",
       "241                  0.378271  \n",
       "88                   0.306803  \n",
       "87                   0.337877  \n",
       "184                  0.287369  \n",
       "69                   0.348898  \n",
       "255                  0.399945  \n",
       "303                  0.303731  \n",
       "301                  0.244284  \n",
       "94                   0.343163  \n",
       "157                  0.239444  \n",
       "182                  0.330366  \n",
       "191                  0.357745  \n",
       "109                  0.367531  \n",
       "228                  0.312441  "
      ],
      "text/html": [
       "<div>\n",
       "<style scoped>\n",
       "    .dataframe tbody tr th:only-of-type {\n",
       "        vertical-align: middle;\n",
       "    }\n",
       "\n",
       "    .dataframe tbody tr th {\n",
       "        vertical-align: top;\n",
       "    }\n",
       "\n",
       "    .dataframe thead th {\n",
       "        text-align: right;\n",
       "    }\n",
       "</style>\n",
       "<table border=\"1\" class=\"dataframe\">\n",
       "  <thead>\n",
       "    <tr style=\"text-align: right;\">\n",
       "      <th></th>\n",
       "      <th>origin</th>\n",
       "      <th>total_flights</th>\n",
       "      <th>mean_delay</th>\n",
       "      <th>delayed_flights</th>\n",
       "      <th>percentage_departed_late</th>\n",
       "    </tr>\n",
       "  </thead>\n",
       "  <tbody>\n",
       "    <tr>\n",
       "      <th>20</th>\n",
       "      <td>ATL</td>\n",
       "      <td>29836</td>\n",
       "      <td>11.858828</td>\n",
       "      <td>11016.0</td>\n",
       "      <td>0.369218</td>\n",
       "    </tr>\n",
       "    <tr>\n",
       "      <th>241</th>\n",
       "      <td>ORD</td>\n",
       "      <td>29270</td>\n",
       "      <td>15.037444</td>\n",
       "      <td>11072.0</td>\n",
       "      <td>0.378271</td>\n",
       "    </tr>\n",
       "    <tr>\n",
       "      <th>88</th>\n",
       "      <td>DFW</td>\n",
       "      <td>21962</td>\n",
       "      <td>6.920044</td>\n",
       "      <td>6738.0</td>\n",
       "      <td>0.306803</td>\n",
       "    </tr>\n",
       "    <tr>\n",
       "      <th>87</th>\n",
       "      <td>DEN</td>\n",
       "      <td>20247</td>\n",
       "      <td>9.555342</td>\n",
       "      <td>6841.0</td>\n",
       "      <td>0.337877</td>\n",
       "    </tr>\n",
       "    <tr>\n",
       "      <th>184</th>\n",
       "      <td>LAX</td>\n",
       "      <td>20110</td>\n",
       "      <td>5.865092</td>\n",
       "      <td>5779.0</td>\n",
       "      <td>0.287369</td>\n",
       "    </tr>\n",
       "    <tr>\n",
       "      <th>69</th>\n",
       "      <td>CLT</td>\n",
       "      <td>18782</td>\n",
       "      <td>8.731232</td>\n",
       "      <td>6553.0</td>\n",
       "      <td>0.348898</td>\n",
       "    </tr>\n",
       "    <tr>\n",
       "      <th>255</th>\n",
       "      <td>PHX</td>\n",
       "      <td>14597</td>\n",
       "      <td>8.285333</td>\n",
       "      <td>5838.0</td>\n",
       "      <td>0.399945</td>\n",
       "    </tr>\n",
       "    <tr>\n",
       "      <th>303</th>\n",
       "      <td>SFO</td>\n",
       "      <td>14447</td>\n",
       "      <td>7.745553</td>\n",
       "      <td>4388.0</td>\n",
       "      <td>0.303731</td>\n",
       "    </tr>\n",
       "    <tr>\n",
       "      <th>301</th>\n",
       "      <td>SEA</td>\n",
       "      <td>14127</td>\n",
       "      <td>2.275288</td>\n",
       "      <td>3451.0</td>\n",
       "      <td>0.244284</td>\n",
       "    </tr>\n",
       "    <tr>\n",
       "      <th>94</th>\n",
       "      <td>DTW</td>\n",
       "      <td>13565</td>\n",
       "      <td>14.429266</td>\n",
       "      <td>4655.0</td>\n",
       "      <td>0.343163</td>\n",
       "    </tr>\n",
       "    <tr>\n",
       "      <th>157</th>\n",
       "      <td>IAH</td>\n",
       "      <td>13523</td>\n",
       "      <td>7.147009</td>\n",
       "      <td>3238.0</td>\n",
       "      <td>0.239444</td>\n",
       "    </tr>\n",
       "    <tr>\n",
       "      <th>182</th>\n",
       "      <td>LAS</td>\n",
       "      <td>13255</td>\n",
       "      <td>6.368691</td>\n",
       "      <td>4379.0</td>\n",
       "      <td>0.330366</td>\n",
       "    </tr>\n",
       "    <tr>\n",
       "      <th>191</th>\n",
       "      <td>LGA</td>\n",
       "      <td>12699</td>\n",
       "      <td>13.012914</td>\n",
       "      <td>4543.0</td>\n",
       "      <td>0.357745</td>\n",
       "    </tr>\n",
       "    <tr>\n",
       "      <th>109</th>\n",
       "      <td>EWR</td>\n",
       "      <td>12116</td>\n",
       "      <td>12.211704</td>\n",
       "      <td>4453.0</td>\n",
       "      <td>0.367531</td>\n",
       "    </tr>\n",
       "    <tr>\n",
       "      <th>228</th>\n",
       "      <td>MSP</td>\n",
       "      <td>11695</td>\n",
       "      <td>9.993330</td>\n",
       "      <td>3654.0</td>\n",
       "      <td>0.312441</td>\n",
       "    </tr>\n",
       "  </tbody>\n",
       "</table>\n",
       "</div>"
      ]
     },
     "metadata": {},
     "execution_count": 76
    }
   ],
   "metadata": {}
  },
  {
   "cell_type": "markdown",
   "source": [
    "Top 15 airports by departures - no massive surprises. Lots of departures from Atlanta, Chicago O'Hare, and the likes, with mean delays between 5 and 15 mins. Looks like the busier an airport is the more likely it is to experiece departure delays (and then there's NYC airports)."
   ],
   "metadata": {}
  },
  {
   "cell_type": "code",
   "execution_count": 73,
   "source": [
    "departure_delay_stats"
   ],
   "outputs": [
    {
     "output_type": "execute_result",
     "data": {
      "text/plain": [
       "    origin  count       mean  delayed_flights\n",
       "0      ABE    387  15.847545            141.0\n",
       "1      ABI    166  11.463855             55.0\n",
       "2      ABQ   2140   5.283645            581.0\n",
       "3      ABR     59  16.457627             20.0\n",
       "4      ABY     76  13.368421             20.0\n",
       "..     ...    ...        ...              ...\n",
       "346    XNA   1049  12.977121            279.0\n",
       "347    YAK     59 -22.135593              5.0\n",
       "348    YKM    115   3.582609             30.0\n",
       "349    YNG      2  63.000000              2.0\n",
       "350    YUM    121   3.016529             48.0\n",
       "\n",
       "[351 rows x 4 columns]"
      ],
      "text/html": [
       "<div>\n",
       "<style scoped>\n",
       "    .dataframe tbody tr th:only-of-type {\n",
       "        vertical-align: middle;\n",
       "    }\n",
       "\n",
       "    .dataframe tbody tr th {\n",
       "        vertical-align: top;\n",
       "    }\n",
       "\n",
       "    .dataframe thead th {\n",
       "        text-align: right;\n",
       "    }\n",
       "</style>\n",
       "<table border=\"1\" class=\"dataframe\">\n",
       "  <thead>\n",
       "    <tr style=\"text-align: right;\">\n",
       "      <th></th>\n",
       "      <th>origin</th>\n",
       "      <th>count</th>\n",
       "      <th>mean</th>\n",
       "      <th>delayed_flights</th>\n",
       "    </tr>\n",
       "  </thead>\n",
       "  <tbody>\n",
       "    <tr>\n",
       "      <th>0</th>\n",
       "      <td>ABE</td>\n",
       "      <td>387</td>\n",
       "      <td>15.847545</td>\n",
       "      <td>141.0</td>\n",
       "    </tr>\n",
       "    <tr>\n",
       "      <th>1</th>\n",
       "      <td>ABI</td>\n",
       "      <td>166</td>\n",
       "      <td>11.463855</td>\n",
       "      <td>55.0</td>\n",
       "    </tr>\n",
       "    <tr>\n",
       "      <th>2</th>\n",
       "      <td>ABQ</td>\n",
       "      <td>2140</td>\n",
       "      <td>5.283645</td>\n",
       "      <td>581.0</td>\n",
       "    </tr>\n",
       "    <tr>\n",
       "      <th>3</th>\n",
       "      <td>ABR</td>\n",
       "      <td>59</td>\n",
       "      <td>16.457627</td>\n",
       "      <td>20.0</td>\n",
       "    </tr>\n",
       "    <tr>\n",
       "      <th>4</th>\n",
       "      <td>ABY</td>\n",
       "      <td>76</td>\n",
       "      <td>13.368421</td>\n",
       "      <td>20.0</td>\n",
       "    </tr>\n",
       "    <tr>\n",
       "      <th>...</th>\n",
       "      <td>...</td>\n",
       "      <td>...</td>\n",
       "      <td>...</td>\n",
       "      <td>...</td>\n",
       "    </tr>\n",
       "    <tr>\n",
       "      <th>346</th>\n",
       "      <td>XNA</td>\n",
       "      <td>1049</td>\n",
       "      <td>12.977121</td>\n",
       "      <td>279.0</td>\n",
       "    </tr>\n",
       "    <tr>\n",
       "      <th>347</th>\n",
       "      <td>YAK</td>\n",
       "      <td>59</td>\n",
       "      <td>-22.135593</td>\n",
       "      <td>5.0</td>\n",
       "    </tr>\n",
       "    <tr>\n",
       "      <th>348</th>\n",
       "      <td>YKM</td>\n",
       "      <td>115</td>\n",
       "      <td>3.582609</td>\n",
       "      <td>30.0</td>\n",
       "    </tr>\n",
       "    <tr>\n",
       "      <th>349</th>\n",
       "      <td>YNG</td>\n",
       "      <td>2</td>\n",
       "      <td>63.000000</td>\n",
       "      <td>2.0</td>\n",
       "    </tr>\n",
       "    <tr>\n",
       "      <th>350</th>\n",
       "      <td>YUM</td>\n",
       "      <td>121</td>\n",
       "      <td>3.016529</td>\n",
       "      <td>48.0</td>\n",
       "    </tr>\n",
       "  </tbody>\n",
       "</table>\n",
       "<p>351 rows × 4 columns</p>\n",
       "</div>"
      ]
     },
     "metadata": {},
     "execution_count": 73
    }
   ],
   "metadata": {}
  },
  {
   "cell_type": "code",
   "execution_count": 54,
   "source": [
    "len(departure_delay_stats)"
   ],
   "outputs": [
    {
     "output_type": "execute_result",
     "data": {
      "text/plain": [
       "351"
      ]
     },
     "metadata": {},
     "execution_count": 54
    }
   ],
   "metadata": {}
  },
  {
   "cell_type": "code",
   "execution_count": null,
   "source": [],
   "outputs": [],
   "metadata": {}
  }
 ]
}