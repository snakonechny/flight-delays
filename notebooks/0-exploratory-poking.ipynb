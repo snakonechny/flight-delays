{
 "metadata": {
  "language_info": {
   "codemirror_mode": {
    "name": "ipython",
    "version": 3
   },
   "file_extension": ".py",
   "mimetype": "text/x-python",
   "name": "python",
   "nbconvert_exporter": "python",
   "pygments_lexer": "ipython3",
   "version": "3.7.8"
  },
  "orig_nbformat": 4,
  "kernelspec": {
   "name": "python3",
   "display_name": "Python 3.7.8 64-bit"
  },
  "interpreter": {
   "hash": "aee8b7b246df8f9039afb4144a1f6fd8d2ca17a180786b69acc140d282b71a49"
  }
 },
 "nbformat": 4,
 "nbformat_minor": 2,
 "cells": [
  {
   "cell_type": "markdown",
   "source": [
    "# Exploratory Analysis of a Monthly Dataset"
   ],
   "metadata": {}
  },
  {
   "cell_type": "code",
   "execution_count": 8,
   "source": [
    "# do the below to load the python utilities from py_depends"
   ],
   "outputs": [],
   "metadata": {}
  },
  {
   "cell_type": "code",
   "execution_count": 9,
   "source": [
    "cd .."
   ],
   "outputs": [
    {
     "output_type": "stream",
     "name": "stdout",
     "text": [
      "/Users/svyatnakonechny\n"
     ]
    }
   ],
   "metadata": {}
  },
  {
   "cell_type": "code",
   "execution_count": 102,
   "source": [
    "import os\n",
    "from py_depends.utils import *\n",
    "from aux.dtypes import *\n",
    "\n",
    "# visualizations and such\n",
    "import matplotlib.pyplot as plt\n",
    "import seaborn as sns\n",
    "sns.set_style(\"dark\")\n",
    "\n",
    "# sanity check - assert the import worked correctly\n",
    "try:\n",
    "    assert 'flight-delays' in os.getcwd()\n",
    "except AssertionError:\n",
    "    print('Doesn\\'t look like the cd .. hack worked - restart the kernel and try again')"
   ],
   "outputs": [
    {
     "output_type": "stream",
     "name": "stdout",
     "text": [
      "Doesn't look like the cd .. hack worked - restart the kernel and try again\n"
     ]
    }
   ],
   "metadata": {}
  },
  {
   "cell_type": "markdown",
   "source": [
    "_First, some housekeeping. Reading in a sample file,_"
   ],
   "metadata": {}
  },
  {
   "cell_type": "code",
   "execution_count": 11,
   "source": [
    "%time jan_2018_df = unzipFile('./sample_data/On_Time_Marketing_Carrier_On_Time_Performance_Beginning_January_2018_2018_1.zip')\n",
    "# and assigning correct(?) types\n",
    "%time subs_jan_2018_df = subsetRenameRetype(jan_2018_df, new_cols)\n",
    "# and finally shaping those date-time columns - this is a massive bottleneck because it loops through the entire dataframe _for each column pair_. Incredibly inefficient\n",
    "%time subs_jan_2018_df = shapeDatetime(subs_jan_2018_df, ['crs_dep_time', 'dep_time','crs_arr_time', 'arr_time', 'first_dep_time', 'diverted_wheels_off_1', 'diverted_wheels_off_2', 'diverted_wheels_off_3'], 'flight_date')"
   ],
   "outputs": [
    {
     "output_type": "error",
     "ename": "FileNotFoundError",
     "evalue": "[Errno 2] No such file or directory: './sample_data/On_Time_Marketing_Carrier_On_Time_Performance_Beginning_January_2018_2018_1.zip'",
     "traceback": [
      "\u001b[0;31m---------------------------------------------------------------------------\u001b[0m",
      "\u001b[0;31mFileNotFoundError\u001b[0m                         Traceback (most recent call last)",
      "\u001b[0;32m<timed exec>\u001b[0m in \u001b[0;36m<module>\u001b[0;34m\u001b[0m\n",
      "\u001b[0;32m~/flight-delays/py_depends/utils.py\u001b[0m in \u001b[0;36munzipFile\u001b[0;34m(path_to_file)\u001b[0m\n\u001b[1;32m      5\u001b[0m \u001b[0;32mdef\u001b[0m \u001b[0munzipFile\u001b[0m\u001b[0;34m(\u001b[0m\u001b[0mpath_to_file\u001b[0m\u001b[0;34m:\u001b[0m \u001b[0mstr\u001b[0m\u001b[0;34m)\u001b[0m \u001b[0;34m->\u001b[0m \u001b[0mpd\u001b[0m\u001b[0;34m.\u001b[0m\u001b[0mcore\u001b[0m\u001b[0;34m.\u001b[0m\u001b[0mframe\u001b[0m\u001b[0;34m.\u001b[0m\u001b[0mDataFrame\u001b[0m\u001b[0;34m:\u001b[0m\u001b[0;34m\u001b[0m\u001b[0;34m\u001b[0m\u001b[0m\n\u001b[1;32m      6\u001b[0m     \u001b[0;34m\"\"\" Frees monthly extract file from the zip file \"\"\"\u001b[0m\u001b[0;34m\u001b[0m\u001b[0;34m\u001b[0m\u001b[0m\n\u001b[0;32m----> 7\u001b[0;31m     \u001b[0mzf\u001b[0m \u001b[0;34m=\u001b[0m \u001b[0mzipfile\u001b[0m\u001b[0;34m.\u001b[0m\u001b[0mZipFile\u001b[0m\u001b[0;34m(\u001b[0m\u001b[0mpath_to_file\u001b[0m\u001b[0;34m)\u001b[0m\u001b[0;34m\u001b[0m\u001b[0;34m\u001b[0m\u001b[0m\n\u001b[0m\u001b[1;32m      8\u001b[0m     \u001b[0mtarget_df\u001b[0m \u001b[0;34m=\u001b[0m \u001b[0;34m[\u001b[0m\u001b[0mf\u001b[0m \u001b[0;32mfor\u001b[0m \u001b[0mf\u001b[0m \u001b[0;32min\u001b[0m \u001b[0mzf\u001b[0m\u001b[0;34m.\u001b[0m\u001b[0mnamelist\u001b[0m\u001b[0;34m(\u001b[0m\u001b[0;34m)\u001b[0m \u001b[0;32mif\u001b[0m \u001b[0;34m'.csv'\u001b[0m \u001b[0;32min\u001b[0m \u001b[0mf\u001b[0m\u001b[0;34m]\u001b[0m\u001b[0;34m[\u001b[0m\u001b[0;36m0\u001b[0m\u001b[0;34m]\u001b[0m \u001b[0;31m# grabbing only the first one, assumes one zip = one csv\u001b[0m\u001b[0;34m\u001b[0m\u001b[0;34m\u001b[0m\u001b[0m\n\u001b[1;32m      9\u001b[0m     \u001b[0;32mreturn\u001b[0m \u001b[0mpd\u001b[0m\u001b[0;34m.\u001b[0m\u001b[0mread_csv\u001b[0m\u001b[0;34m(\u001b[0m\u001b[0mzf\u001b[0m\u001b[0;34m.\u001b[0m\u001b[0mopen\u001b[0m\u001b[0;34m(\u001b[0m\u001b[0mtarget_df\u001b[0m\u001b[0;34m)\u001b[0m\u001b[0;34m,\u001b[0m \u001b[0mlow_memory\u001b[0m\u001b[0;34m=\u001b[0m\u001b[0;32mFalse\u001b[0m\u001b[0;34m)\u001b[0m\u001b[0;34m\u001b[0m\u001b[0;34m\u001b[0m\u001b[0m\n",
      "\u001b[0;32m/Library/Frameworks/Python.framework/Versions/3.7/lib/python3.7/zipfile.py\u001b[0m in \u001b[0;36m__init__\u001b[0;34m(self, file, mode, compression, allowZip64, compresslevel)\u001b[0m\n\u001b[1;32m   1238\u001b[0m             \u001b[0;32mwhile\u001b[0m \u001b[0;32mTrue\u001b[0m\u001b[0;34m:\u001b[0m\u001b[0;34m\u001b[0m\u001b[0;34m\u001b[0m\u001b[0m\n\u001b[1;32m   1239\u001b[0m                 \u001b[0;32mtry\u001b[0m\u001b[0;34m:\u001b[0m\u001b[0;34m\u001b[0m\u001b[0;34m\u001b[0m\u001b[0m\n\u001b[0;32m-> 1240\u001b[0;31m                     \u001b[0mself\u001b[0m\u001b[0;34m.\u001b[0m\u001b[0mfp\u001b[0m \u001b[0;34m=\u001b[0m \u001b[0mio\u001b[0m\u001b[0;34m.\u001b[0m\u001b[0mopen\u001b[0m\u001b[0;34m(\u001b[0m\u001b[0mfile\u001b[0m\u001b[0;34m,\u001b[0m \u001b[0mfilemode\u001b[0m\u001b[0;34m)\u001b[0m\u001b[0;34m\u001b[0m\u001b[0;34m\u001b[0m\u001b[0m\n\u001b[0m\u001b[1;32m   1241\u001b[0m                 \u001b[0;32mexcept\u001b[0m \u001b[0mOSError\u001b[0m\u001b[0;34m:\u001b[0m\u001b[0;34m\u001b[0m\u001b[0;34m\u001b[0m\u001b[0m\n\u001b[1;32m   1242\u001b[0m                     \u001b[0;32mif\u001b[0m \u001b[0mfilemode\u001b[0m \u001b[0;32min\u001b[0m \u001b[0mmodeDict\u001b[0m\u001b[0;34m:\u001b[0m\u001b[0;34m\u001b[0m\u001b[0;34m\u001b[0m\u001b[0m\n",
      "\u001b[0;31mFileNotFoundError\u001b[0m: [Errno 2] No such file or directory: './sample_data/On_Time_Marketing_Carrier_On_Time_Performance_Beginning_January_2018_2018_1.zip'"
     ]
    },
    {
     "output_type": "stream",
     "name": "stdout",
     "text": [
      "CPU times: user 3.85 s, sys: 467 ms, total: 4.31 s\n",
      "Wall time: 4.32 s\n",
      "Shaping crs_dep_time-flight_date columns\n",
      "Shaping dep_time-flight_date columns\n",
      "Shaping crs_arr_time-flight_date columns\n",
      "Shaping arr_time-flight_date columns\n",
      "Shaping first_dep_time-flight_date columns\n",
      "Shaping diverted_wheels_off_1-flight_date columns\n",
      "Shaping diverted_wheels_off_2-flight_date columns\n",
      "Shaping diverted_wheels_off_3-flight_date columns\n",
      "CPU times: user 3min 28s, sys: 5.93 s, total: 3min 34s\n",
      "Wall time: 3min 36s\n"
     ]
    }
   ],
   "metadata": {}
  },
  {
   "cell_type": "markdown",
   "source": [
    "## Descriptive stats"
   ],
   "metadata": {}
  },
  {
   "cell_type": "markdown",
   "source": [
    "### Airports"
   ],
   "metadata": {}
  },
  {
   "cell_type": "code",
   "execution_count": 150,
   "source": [
    "departure_delay_stats = subs_jan_2018_df.groupby('origin')['dep_delay'].agg(['count', 'mean']).reset_index()\n",
    "late_departures_only = subs_jan_2018_df[subs_jan_2018_df.dep_delay > 0]\n",
    "counts_late_departure = late_departures_only.groupby('origin')['origin'].agg(['count']).reset_index()\n",
    "departure_delay_stats.columns = ['origin', 'total_flights', 'mean_delay']\n",
    "counts_late_departure.columns = ['origin', 'delayed_flights']\n",
    "departure_delay_stats = pd.merge(departure_delay_stats, counts_late_departure, how='left')\n",
    "departure_delay_stats['percentage_departed_late'] = departure_delay_stats['delayed_flights']/departure_delay_stats['total_flights'] * 100\n",
    "departure_delay_stats = departure_delay_stats.round(3)\n",
    "departure_delay_stats_sorted = departure_delay_stats.sort_values(by='total_flights', ascending=False)\n",
    "# stashing 15 busiest airports by total flights for alter\n",
    "fifteen_busiest_airports = departure_delay_stats_sorted.origin[:15].tolist()\n",
    "departure_delay_stats_sorted.head(15)"
   ],
   "outputs": [
    {
     "output_type": "execute_result",
     "data": {
      "text/plain": [
       "    origin  total_flights  mean_delay  delayed_flights  \\\n",
       "20     ATL          29836      11.859          11016.0   \n",
       "241    ORD          29270      15.037          11072.0   \n",
       "88     DFW          21962       6.920           6738.0   \n",
       "87     DEN          20247       9.555           6841.0   \n",
       "184    LAX          20110       5.865           5779.0   \n",
       "69     CLT          18782       8.731           6553.0   \n",
       "255    PHX          14597       8.285           5838.0   \n",
       "303    SFO          14447       7.746           4388.0   \n",
       "301    SEA          14127       2.275           3451.0   \n",
       "94     DTW          13565      14.429           4655.0   \n",
       "157    IAH          13523       7.147           3238.0   \n",
       "182    LAS          13255       6.369           4379.0   \n",
       "191    LGA          12699      13.013           4543.0   \n",
       "109    EWR          12116      12.212           4453.0   \n",
       "228    MSP          11695       9.993           3654.0   \n",
       "\n",
       "     percentage_departed_late  \n",
       "20                     36.922  \n",
       "241                    37.827  \n",
       "88                     30.680  \n",
       "87                     33.788  \n",
       "184                    28.737  \n",
       "69                     34.890  \n",
       "255                    39.995  \n",
       "303                    30.373  \n",
       "301                    24.428  \n",
       "94                     34.316  \n",
       "157                    23.944  \n",
       "182                    33.037  \n",
       "191                    35.774  \n",
       "109                    36.753  \n",
       "228                    31.244  "
      ],
      "text/html": [
       "<div>\n",
       "<style scoped>\n",
       "    .dataframe tbody tr th:only-of-type {\n",
       "        vertical-align: middle;\n",
       "    }\n",
       "\n",
       "    .dataframe tbody tr th {\n",
       "        vertical-align: top;\n",
       "    }\n",
       "\n",
       "    .dataframe thead th {\n",
       "        text-align: right;\n",
       "    }\n",
       "</style>\n",
       "<table border=\"1\" class=\"dataframe\">\n",
       "  <thead>\n",
       "    <tr style=\"text-align: right;\">\n",
       "      <th></th>\n",
       "      <th>origin</th>\n",
       "      <th>total_flights</th>\n",
       "      <th>mean_delay</th>\n",
       "      <th>delayed_flights</th>\n",
       "      <th>percentage_departed_late</th>\n",
       "    </tr>\n",
       "  </thead>\n",
       "  <tbody>\n",
       "    <tr>\n",
       "      <th>20</th>\n",
       "      <td>ATL</td>\n",
       "      <td>29836</td>\n",
       "      <td>11.859</td>\n",
       "      <td>11016.0</td>\n",
       "      <td>36.922</td>\n",
       "    </tr>\n",
       "    <tr>\n",
       "      <th>241</th>\n",
       "      <td>ORD</td>\n",
       "      <td>29270</td>\n",
       "      <td>15.037</td>\n",
       "      <td>11072.0</td>\n",
       "      <td>37.827</td>\n",
       "    </tr>\n",
       "    <tr>\n",
       "      <th>88</th>\n",
       "      <td>DFW</td>\n",
       "      <td>21962</td>\n",
       "      <td>6.920</td>\n",
       "      <td>6738.0</td>\n",
       "      <td>30.680</td>\n",
       "    </tr>\n",
       "    <tr>\n",
       "      <th>87</th>\n",
       "      <td>DEN</td>\n",
       "      <td>20247</td>\n",
       "      <td>9.555</td>\n",
       "      <td>6841.0</td>\n",
       "      <td>33.788</td>\n",
       "    </tr>\n",
       "    <tr>\n",
       "      <th>184</th>\n",
       "      <td>LAX</td>\n",
       "      <td>20110</td>\n",
       "      <td>5.865</td>\n",
       "      <td>5779.0</td>\n",
       "      <td>28.737</td>\n",
       "    </tr>\n",
       "    <tr>\n",
       "      <th>69</th>\n",
       "      <td>CLT</td>\n",
       "      <td>18782</td>\n",
       "      <td>8.731</td>\n",
       "      <td>6553.0</td>\n",
       "      <td>34.890</td>\n",
       "    </tr>\n",
       "    <tr>\n",
       "      <th>255</th>\n",
       "      <td>PHX</td>\n",
       "      <td>14597</td>\n",
       "      <td>8.285</td>\n",
       "      <td>5838.0</td>\n",
       "      <td>39.995</td>\n",
       "    </tr>\n",
       "    <tr>\n",
       "      <th>303</th>\n",
       "      <td>SFO</td>\n",
       "      <td>14447</td>\n",
       "      <td>7.746</td>\n",
       "      <td>4388.0</td>\n",
       "      <td>30.373</td>\n",
       "    </tr>\n",
       "    <tr>\n",
       "      <th>301</th>\n",
       "      <td>SEA</td>\n",
       "      <td>14127</td>\n",
       "      <td>2.275</td>\n",
       "      <td>3451.0</td>\n",
       "      <td>24.428</td>\n",
       "    </tr>\n",
       "    <tr>\n",
       "      <th>94</th>\n",
       "      <td>DTW</td>\n",
       "      <td>13565</td>\n",
       "      <td>14.429</td>\n",
       "      <td>4655.0</td>\n",
       "      <td>34.316</td>\n",
       "    </tr>\n",
       "    <tr>\n",
       "      <th>157</th>\n",
       "      <td>IAH</td>\n",
       "      <td>13523</td>\n",
       "      <td>7.147</td>\n",
       "      <td>3238.0</td>\n",
       "      <td>23.944</td>\n",
       "    </tr>\n",
       "    <tr>\n",
       "      <th>182</th>\n",
       "      <td>LAS</td>\n",
       "      <td>13255</td>\n",
       "      <td>6.369</td>\n",
       "      <td>4379.0</td>\n",
       "      <td>33.037</td>\n",
       "    </tr>\n",
       "    <tr>\n",
       "      <th>191</th>\n",
       "      <td>LGA</td>\n",
       "      <td>12699</td>\n",
       "      <td>13.013</td>\n",
       "      <td>4543.0</td>\n",
       "      <td>35.774</td>\n",
       "    </tr>\n",
       "    <tr>\n",
       "      <th>109</th>\n",
       "      <td>EWR</td>\n",
       "      <td>12116</td>\n",
       "      <td>12.212</td>\n",
       "      <td>4453.0</td>\n",
       "      <td>36.753</td>\n",
       "    </tr>\n",
       "    <tr>\n",
       "      <th>228</th>\n",
       "      <td>MSP</td>\n",
       "      <td>11695</td>\n",
       "      <td>9.993</td>\n",
       "      <td>3654.0</td>\n",
       "      <td>31.244</td>\n",
       "    </tr>\n",
       "  </tbody>\n",
       "</table>\n",
       "</div>"
      ]
     },
     "metadata": {},
     "execution_count": 150
    }
   ],
   "metadata": {}
  },
  {
   "cell_type": "markdown",
   "source": [
    "Top 15 airports by departures - no massive surprises. Lots of departures from Atlanta, Chicago O'Hare, and the likes, with mean delays between 5 and 15 mins. Looks like the busier an airport is the more likely it is to experiece departure delays (and then there's NYC airports).\n",
    "\n",
    "_(NTS: make the delays stats dataframe an interactive object)_"
   ],
   "metadata": {}
  },
  {
   "cell_type": "markdown",
   "source": [
    "Visualizing the distrubtion of delays:"
   ],
   "metadata": {}
  },
  {
   "cell_type": "code",
   "execution_count": 119,
   "source": [
    "# lifting some SO code to get mean/median working\n",
    "def specs(x, **kwargs):\n",
    "    plt.axvline(x.mean(), c='k', ls='-', lw=1, label='Mean')\n",
    "    plt.axvline(x.median(), c='orange', ls='--', lw=1, label='Median')\n",
    "    plt.legend(loc='upper left')\n",
    "\n",
    "delays_distro = sns.displot(late_departures_only, x='dep_delay', binwidth=15)\n",
    "delays_distro.map(specs,'dep_delay')\n",
    "delays_distro.set_axis_labels('Delays, in mins (bins width = 15)', 'Count of flights')\n"
   ],
   "outputs": [
    {
     "output_type": "execute_result",
     "data": {
      "text/plain": [
       "<seaborn.axisgrid.FacetGrid at 0x7fea8d919650>"
      ]
     },
     "metadata": {},
     "execution_count": 119
    },
    {
     "output_type": "display_data",
     "data": {
      "text/plain": [
       "<Figure size 360x360 with 1 Axes>"
      ],
      "image/png": "[encoded data removed]"
     },
     "metadata": {}
    }
   ],
   "metadata": {}
  },
  {
   "cell_type": "markdown",
   "source": [
    "_Most delayed flights were delayed for 15 mins or less, with a tail of longer departure delays as well. That plot isn't particularly useful though - it might be nice to see what this distribution looks like per airport, per day, limited to top 15 origin airports by flight count._"
   ],
   "metadata": {}
  },
  {
   "cell_type": "code",
   "execution_count": 191,
   "source": [
    "late_departures_only_busiest_15 = late_departures_only[late_departures_only.origin.isin(fifteen_busiest_airports)]\n",
    "heatmap_date_airport = late_departures_only_busiest_15.groupby(by=[late_departures_only_busiest_15['flight_date'].dt.date, late_departures_only_busiest_15['origin']])['dep_delay'].mean().reset_index()\n",
    "heatmap_date_airport.flight_date = heatmap_date_airport.flight_date.astype(str)\n",
    "\n",
    "heatmap_date_airport = heatmap_date_airport.pivot('origin', 'flight_date', 'dep_delay')\n",
    "\n",
    "# and the visualization now\n",
    "delays_heatmap = sns.heatmap(heatmap_date_airport, cmap='YlGnBu', linewidths=.8)\n",
    "delays_heatmap"
   ],
   "outputs": [
    {
     "output_type": "execute_result",
     "data": {
      "text/plain": [
       "<AxesSubplot:xlabel='flight_date', ylabel='origin'>"
      ]
     },
     "metadata": {},
     "execution_count": 191
    },
    {
     "output_type": "display_data",
     "data": {
      "text/plain": [
       "<Figure size 432x288 with 2 Axes>"
      ],
      "image/png": "[encoded data removed]"
     },
     "metadata": {}
    }
   ],
   "metadata": {}
  },
  {
   "cell_type": "markdown",
   "source": [
    "_What jumps out right away are the horizontal and vertical patterns: seems like Detriot-DTW and Chicago-ORD just had a bad month of January (weather?), and 17 Jan saw system-wide delays (notice the darker colors on that vertical). This latter part might be worth modeling down the line._"
   ],
   "metadata": {}
  },
  {
   "cell_type": "markdown",
   "source": [
    "_Finally, let's take a look at how departure delays propagate throughout the day of flying and the system at large._\n",
    "\n",
    "_This breaks down to:_\n",
    "\n",
    "    1. for a given airplane, if their first flight of the day was delayed, at what point did this delay \"wear off\" (when did it start showing up on time)?\n",
    "\n",
    "    2. for a given airport with long departure delays, how did these delays impact the destination airports and the system at large?"
   ],
   "metadata": {}
  },
  {
   "cell_type": "markdown",
   "source": [
    "### Flights, airplanes, system at large"
   ],
   "metadata": {}
  },
  {
   "cell_type": "markdown",
   "source": [],
   "metadata": {}
  }
 ]
}