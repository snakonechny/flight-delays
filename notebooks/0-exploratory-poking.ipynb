{
 "metadata": {
  "language_info": {
   "codemirror_mode": {
    "name": "ipython",
    "version": 3
   },
   "file_extension": ".py",
   "mimetype": "text/x-python",
   "name": "python",
   "nbconvert_exporter": "python",
   "pygments_lexer": "ipython3",
   "version": "3.7.8"
  },
  "orig_nbformat": 4,
  "kernelspec": {
   "name": "python3",
   "display_name": "Python 3.7.8 64-bit"
  },
  "interpreter": {
   "hash": "aee8b7b246df8f9039afb4144a1f6fd8d2ca17a180786b69acc140d282b71a49"
  }
 },
 "nbformat": 4,
 "nbformat_minor": 2,
 "cells": [
  {
   "cell_type": "markdown",
   "source": [
    "# Exploratory Analysis of a Monthly Dataset"
   ],
   "metadata": {}
  },
  {
   "cell_type": "code",
   "execution_count": null,
   "source": [
    "# do the below to load the python utilities from py_depends"
   ],
   "outputs": [],
   "metadata": {}
  },
  {
   "cell_type": "code",
   "execution_count": null,
   "source": [
    "cd .."
   ],
   "outputs": [],
   "metadata": {}
  },
  {
   "cell_type": "code",
   "execution_count": null,
   "source": [
    "import os\n",
    "from py_depends.utils import *\n",
    "from aux.dtypes import *\n",
    "\n",
    "# visualizations and such\n",
    "import matplotlib.pyplot as plt\n",
    "import seaborn as sns\n",
    "sns.set_style(\"dark\")\n",
    "\n",
    "# sanity check - assert the import worked correctly\n",
    "try:\n",
    "    assert 'flight-delays' in os.getcwd()\n",
    "except AssertionError:\n",
    "    print('Doesn\\'t look like the cd .. hack worked - restart the kernel and try again')"
   ],
   "outputs": [],
   "metadata": {}
  },
  {
   "cell_type": "markdown",
   "source": [
    "_First, some housekeeping. Reading in a sample file,_"
   ],
   "metadata": {}
  },
  {
   "cell_type": "code",
   "execution_count": 194,
   "source": [
    "%time jan_2018_df = unzipFile('./sample_data/On_Time_Marketing_Carrier_On_Time_Performance_Beginning_January_2018_2018_1.zip')\n",
    "# and assigning correct(?) types\n",
    "%time subs_jan_2018_df = subsetRenameRetype(jan_2018_df, new_cols)\n",
    "# and finally shaping those date-time columns - this is a massive bottleneck because it loops through the entire dataframe _for each column pair_. Incredibly inefficient\n",
    "%time subs_jan_2018_df = shapeDatetime(subs_jan_2018_df, ['crs_dep_time', 'dep_time','crs_arr_time', 'arr_time', 'first_dep_time', 'diverted_wheels_off_1', 'diverted_wheels_off_2', 'diverted_wheels_off_3'], 'flight_date')"
   ],
   "outputs": [],
   "metadata": {}
  },
  {
   "cell_type": "markdown",
   "source": [
    "## Descriptive stats"
   ],
   "metadata": {}
  },
  {
   "cell_type": "markdown",
   "source": [
    "### Airports"
   ],
   "metadata": {}
  },
  {
   "cell_type": "code",
   "execution_count": null,
   "source": [
    "departure_delay_stats = subs_jan_2018_df.groupby('origin')['dep_delay'].agg(['count', 'mean']).reset_index()\n",
    "late_departures_only = subs_jan_2018_df[subs_jan_2018_df.dep_delay > 0]\n",
    "counts_late_departure = late_departures_only.groupby('origin')['origin'].agg(['count']).reset_index()\n",
    "departure_delay_stats.columns = ['origin', 'total_flights', 'mean_delay']\n",
    "counts_late_departure.columns = ['origin', 'delayed_flights']\n",
    "departure_delay_stats = pd.merge(departure_delay_stats, counts_late_departure, how='left')\n",
    "departure_delay_stats['percentage_departed_late'] = departure_delay_stats['delayed_flights']/departure_delay_stats['total_flights'] * 100\n",
    "departure_delay_stats = departure_delay_stats.round(3)\n",
    "departure_delay_stats_sorted = departure_delay_stats.sort_values(by='total_flights', ascending=False)\n",
    "# stashing 15 busiest airports by total flights for alter\n",
    "fifteen_busiest_airports = departure_delay_stats_sorted.origin[:15].tolist()\n",
    "departure_delay_stats_sorted.head(15)"
   ],
   "outputs": [],
   "metadata": {}
  },
  {
   "cell_type": "markdown",
   "source": [
    "Top 15 airports by departures - no massive surprises. Lots of departures from Atlanta, Chicago O'Hare, and the likes, with mean delays between 5 and 15 mins. Looks like the busier an airport is the more likely it is to experiece departure delays (and then there's NYC airports).\n",
    "\n",
    "_(NTS: make the delays stats dataframe an interactive object)_"
   ],
   "metadata": {}
  },
  {
   "cell_type": "markdown",
   "source": [
    "Visualizing the distrubtion of delays:"
   ],
   "metadata": {}
  },
  {
   "cell_type": "code",
   "execution_count": null,
   "source": [
    "# lifting some SO code to get mean/median working\n",
    "def specs(x, **kwargs):\n",
    "    plt.axvline(x.mean(), c='k', ls='-', lw=1, label='Mean')\n",
    "    plt.axvline(x.median(), c='orange', ls='--', lw=1, label='Median')\n",
    "    plt.legend(loc='upper left')\n",
    "\n",
    "delays_distro = sns.displot(late_departures_only, x='dep_delay', binwidth=15)\n",
    "delays_distro.map(specs,'dep_delay')\n",
    "delays_distro.set_axis_labels('Delays, in mins (bins width = 15)', 'Count of flights')\n"
   ],
   "outputs": [],
   "metadata": {}
  },
  {
   "cell_type": "markdown",
   "source": [
    "_Most delayed flights were delayed for 15 mins or less, with a tail of longer departure delays as well. That plot isn't particularly useful though - it might be nice to see what this distribution looks like per airport, per day, limited to top 15 origin airports by flight count._"
   ],
   "metadata": {}
  },
  {
   "cell_type": "code",
   "execution_count": null,
   "source": [
    "late_departures_only_busiest_15 = late_departures_only[late_departures_only.origin.isin(fifteen_busiest_airports)]\n",
    "heatmap_date_airport = late_departures_only_busiest_15.groupby(by=[late_departures_only_busiest_15['flight_date'].dt.date, late_departures_only_busiest_15['origin']])['dep_delay'].mean().reset_index()\n",
    "heatmap_date_airport.flight_date = heatmap_date_airport.flight_date.astype(str)\n",
    "\n",
    "heatmap_date_airport = heatmap_date_airport.pivot('origin', 'flight_date', 'dep_delay')\n",
    "\n",
    "# and the visualization now\n",
    "delays_heatmap = sns.heatmap(heatmap_date_airport, cmap='YlGnBu', linewidths=.8)\n",
    "delays_heatmap"
   ],
   "outputs": [],
   "metadata": {}
  },
  {
   "cell_type": "markdown",
   "source": [
    "_What jumps out right away are the horizontal and vertical patterns: seems like Detriot-DTW and Chicago-ORD just had a bad month of January (weather?), and 17 Jan saw system-wide delays (notice the darker colors on that vertical). This latter part might be worth modeling down the line._"
   ],
   "metadata": {}
  },
  {
   "cell_type": "markdown",
   "source": [
    "_Finally, let's take a look at how departure delays propagate throughout the day of flying and the system at large._\n",
    "\n",
    "_This breaks down to:_\n",
    "\n",
    "    1. for a given airplane, if their first flight of the day was delayed, at what point did this delay \"wear off\" (when did it start showing up on time)?\n",
    "\n",
    "    2. for a given airport with long departure delays, how did these delays impact the destination airports and the system at large?"
   ],
   "metadata": {}
  },
  {
   "cell_type": "markdown",
   "source": [
    "### Flights, airplanes, system at large"
   ],
   "metadata": {}
  },
  {
   "cell_type": "markdown",
   "source": [],
   "metadata": {}
  },
  {
   "cell_type": "markdown",
   "source": [],
   "metadata": {}
  }
 ]
}